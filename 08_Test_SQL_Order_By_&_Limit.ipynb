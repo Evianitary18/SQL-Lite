{
  "nbformat": 4,
  "nbformat_minor": 0,
  "metadata": {
    "colab": {
      "provenance": [],
      "authorship_tag": "ABX9TyP62K5OYFz3t/SBAeNak9E7",
      "include_colab_link": true
    },
    "kernelspec": {
      "name": "python3",
      "display_name": "Python 3"
    },
    "language_info": {
      "name": "python"
    }
  },
  "cells": [
    {
      "cell_type": "markdown",
      "metadata": {
        "id": "view-in-github",
        "colab_type": "text"
      },
      "source": [
        "<a href=\"https://colab.research.google.com/github/Evianitary18/SQL-Lite/blob/main/08_Test_SQL_Order_By_%26_Limit.ipynb\" target=\"_parent\"><img src=\"https://colab.research.google.com/assets/colab-badge.svg\" alt=\"Open In Colab\"/></a>"
      ]
    },
    {
      "cell_type": "markdown",
      "source": [
        "Operator Order By\n",
        "Untuk mengurutkan hasil query yang ditampilkan\n",
        "\n",
        "Sintaks mengurutkan hasil secara naik:\n",
        "SELECT * FROM nama_tabel\n",
        "ORDER BY nama_kolom\n",
        "sama dengan\n",
        "SELECT * from nama_tabel ORDER BY nama kolom ASC;\n"
      ],
      "metadata": {
        "id": "0vEdu3p4SmSn"
      }
    },
    {
      "cell_type": "markdown",
      "source": [
        "kalau urutan datanya menurun, bisa menggunakan sintaks\n",
        "\n",
        "SELECT * FROM nama_tabel ORDER BY nama_kolom DESC;"
      ],
      "metadata": {
        "id": "apYOjs5jTNJU"
      }
    },
    {
      "cell_type": "markdown",
      "source": [
        "Operator LIMIT berguna untuk membatasi jumlah baris data yang ditampilkan"
      ],
      "metadata": {
        "id": "xjTLpwQeTfEu"
      }
    },
    {
      "cell_type": "markdown",
      "source": [
        "SELECT nama_kolom FROM nama_tabel WHERE kondisi LIMIT jumlah_baris_yang_diinginkan;"
      ],
      "metadata": {
        "id": "ULPOmfSQTmjN"
      }
    },
    {
      "cell_type": "code",
      "execution_count": null,
      "metadata": {
        "id": "EitslPp8Seme"
      },
      "outputs": [],
      "source": [
        "pd.read_sql_query(\"SELECT * from customers where FirstName ='Mark' ORDER BY LastName Limit 10\", con)"
      ]
    },
    {
      "cell_type": "code",
      "source": [
        "# kalau teman-teman ingin mengurutkan dari yang terbesar\n",
        "pd.read_sql_query(\"SELECT * from customers where Country ='Brazil' ORDER BY FirstName DESC\", con)"
      ],
      "metadata": {
        "id": "ILyrybGqUTPI"
      },
      "execution_count": null,
      "outputs": []
    },
    {
      "cell_type": "code",
      "source": [],
      "metadata": {
        "id": "gNdreqZhTegd"
      },
      "execution_count": null,
      "outputs": []
    }
  ]
}