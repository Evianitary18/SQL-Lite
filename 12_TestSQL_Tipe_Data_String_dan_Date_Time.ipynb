{
  "nbformat": 4,
  "nbformat_minor": 0,
  "metadata": {
    "colab": {
      "provenance": [],
      "authorship_tag": "ABX9TyPRP91E2wYYFXIjLnFxB9SY",
      "include_colab_link": true
    },
    "kernelspec": {
      "name": "python3",
      "display_name": "Python 3"
    },
    "language_info": {
      "name": "python"
    }
  },
  "cells": [
    {
      "cell_type": "markdown",
      "metadata": {
        "id": "view-in-github",
        "colab_type": "text"
      },
      "source": [
        "<a href=\"https://colab.research.google.com/github/Evianitary18/SQL-Lite/blob/main/12_TestSQL_Tipe_Data_String_dan_Date_Time.ipynb\" target=\"_parent\"><img src=\"https://colab.research.google.com/assets/colab-badge.svg\" alt=\"Open In Colab\"/></a>"
      ]
    },
    {
      "cell_type": "markdown",
      "source": [
        "Fungsi untuk tipe Data String\n",
        "\n",
        "Macam-macam fungsi untuk tipe data string\n",
        "- Upper()\n",
        "- Lower()\n",
        "- Replace()\n",
        "- Substr()\n",
        "- Instr()\n",
        "- Length()\n",
        "- Trim()\n",
        "- Ltrim()\n",
        "- Rtrim()\n",
        "- Concatenation oprator\"||\""
      ],
      "metadata": {
        "id": "C_l9UnDTj7cx"
      }
    },
    {
      "cell_type": "code",
      "execution_count": null,
      "metadata": {
        "id": "5GBEqGHcjd39"
      },
      "outputs": [],
      "source": [
        "# 1. UPPER\n",
        "Menampilkan salinan string yang semua karakternya telah dikonversi menjadi huruf kapital.\n",
        "Sintaks:\n",
        "SELECT UPPER('String Functions');\n",
        "\n",
        "# 2. Lower\n",
        "Menampilkan salinan string yang semua karakternya telah dikonversi menjadi huruf kecil.\n",
        "Sintaks:\n",
        "SELECT LOWER('String Functions');\n",
        "\n",
        "# 3. Replace\n",
        "Menampilkan salinan string yang nilai setiap instance substring-nya diganti dengan nilai substring lain\n",
        "Sintaks:\n",
        "SELECT REPLACE('These are string functions', 'These', 'Those');\n",
        "\n",
        "# SUBSTR\n",
        "Menampilkan nilai substring dengan panjang yang telah ditentukan dari suatu nilai string\n",
        "Sintaks:\n",
        "Ada 3 argumern yaitu, nilai stringnya, posisi mulainya, dan panjang karakternya.\n",
        "Sintaks:\n",
        "SELECT SUBSTR('SQLite String Functions', 1, 6);\n",
        "\n",
        "# INSTR():\n",
        "Menemukan dan memberikan posisi kemunculan pertama dari nilai substring dari suatu nilai string, yang dinyatakan dalam bilangan bulat.\n",
        "Sintaks:\n",
        "SELECT INSTR ('SQLite String Functions', 'Functions')\n",
        "As;\n",
        "\n",
        "sintaks as maksudnya memberi alias atau mengganti nama kolom pada output query kita.\n",
        "\n",
        "# LENGTH():\n",
        "Menghitung jumlah karakter dari suatu nilai string atau jumlah byte dari suatu BLOB.\n",
        "Sintaks:\n",
        "SELECT LENGTH('SQLite String Functions');\n",
        "\n",
        "# TRIM()\n",
        "Menampilkan salinan dari string yang memiliki karakter tertentu, yang dihapus dari awalan dan akhiran string tersebut.\n",
        "SELECT TRIM('SQLite');\n",
        "\n",
        "# LTRIM():\n",
        "Menampilkan salinan string yang memiliki karakter tertentu, yang dihapus dari awalan string tersebut.\n",
        "Sintaks:\n",
        "SELECT LTRIM('SQLite');\n",
        "\n",
        "# RTRIM():\n",
        "Menampilkan salinan string yang memiliki karakter tertentu, yang dihapus dari akhiran string tersebut.\n",
        "Sintaks:\n",
        "SELECT RTRIM('SQLite'), LENGTH('SQLite') Lenght Before, LENGTH(LTRIM('SQLite')) Length After;\n",
        "\n",
        "# RTRIM\n",
        "Menampilkan salinan string yang memiliki karakter tertentu, yang dihapus dari akhiran string tersebut.\n",
        "Sintaks:\n",
        "SELECT RTRIM(' SQLite '),\n",
        "Lenght(' SQLite ') LengthBefore,\n",
        "Length(RTRIM('SQLite')) LengthAfter;\n",
        "\n",
        "\n",
        "# CONCATENATION OPERATOR ||\n",
        "Menggabungkan dua nilai string menjadi 1\n",
        "\n",
        "pd.read_sql_query(\"SELECT FirstName, LastName, FirstName || ' ' || LastName as FullName from customers limit 10\", con)\n"
      ]
    }
  ]
}