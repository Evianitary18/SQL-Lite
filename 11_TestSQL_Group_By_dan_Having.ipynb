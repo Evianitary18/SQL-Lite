{
  "nbformat": 4,
  "nbformat_minor": 0,
  "metadata": {
    "colab": {
      "provenance": [],
      "authorship_tag": "ABX9TyPfwc8LTQDEX+DKR2g7kBO7",
      "include_colab_link": true
    },
    "kernelspec": {
      "name": "python3",
      "display_name": "Python 3"
    },
    "language_info": {
      "name": "python"
    }
  },
  "cells": [
    {
      "cell_type": "markdown",
      "metadata": {
        "id": "view-in-github",
        "colab_type": "text"
      },
      "source": [
        "<a href=\"https://colab.research.google.com/github/Evianitary18/SQL-Lite/blob/main/11_TestSQL_Group_By_dan_Having.ipynb\" target=\"_parent\"><img src=\"https://colab.research.google.com/assets/colab-badge.svg\" alt=\"Open In Colab\"/></a>"
      ]
    },
    {
      "cell_type": "markdown",
      "source": [
        "Fungsi Agregat lanjutan.\n",
        "1. Fungsi Group By\n",
        "Menghitung nilai agregasi suatu data dalam kategori/grup tertentu.\n",
        "\n",
        "Sintaks:\n",
        "SELECT nama_kolom\n",
        "FROM nama_tabel\n",
        "WHERE kondisi\n",
        "GROUP BY nama_kolom"
      ],
      "metadata": {
        "id": "_QHp71B_hE0_"
      }
    },
    {
      "cell_type": "code",
      "execution_count": null,
      "metadata": {
        "id": "DYMAolUWg0Df"
      },
      "outputs": [],
      "source": [
        "pd.read_sql_query(\"SELECT * from invoices limit 5\", con)\n"
      ]
    },
    {
      "cell_type": "code",
      "source": [
        "# Ingin mengelompokkan nilai invoices berdasarkan billing country\n",
        "pd.read_sql_query(\"SELECT billingcountry, sum(total) as total from invoices GROUP BY billingcountry Order by 2 limit 5\", con)"
      ],
      "metadata": {
        "id": "vZyH8pTxh6jP"
      },
      "execution_count": null,
      "outputs": []
    },
    {
      "cell_type": "markdown",
      "source": [
        "2. Having digunakan untuk menyaring data yang ditampilkan menurut kondisi yang merupakan hasil agregasi data"
      ],
      "metadata": {
        "id": "3pHfUBsAioy0"
      }
    },
    {
      "cell_type": "code",
      "source": [
        "# Sintaks\n",
        "SELECT nama_kolom\n",
        "FROM nama_tabel\n",
        "WHERE kondisi\n",
        "GROUP BY nama_kolom\n",
        "HAVING kondisi_agregasi"
      ],
      "metadata": {
        "id": "Py99wbe1i4c2"
      },
      "execution_count": null,
      "outputs": []
    },
    {
      "cell_type": "code",
      "source": [
        "pd.read_sql_query(\"SELECT billingcountry, sum(total) as total from invoices GROUP BY billingcountry HAVING total > 40\", con)"
      ],
      "metadata": {
        "id": "XY2OagMeiyU_"
      },
      "execution_count": null,
      "outputs": []
    }
  ]
}