{
  "nbformat": 4,
  "nbformat_minor": 0,
  "metadata": {
    "colab": {
      "provenance": [],
      "authorship_tag": "ABX9TyN5EHCGLIaPo8h3fqG+reX3",
      "include_colab_link": true
    },
    "kernelspec": {
      "name": "python3",
      "display_name": "Python 3"
    },
    "language_info": {
      "name": "python"
    }
  },
  "cells": [
    {
      "cell_type": "markdown",
      "metadata": {
        "id": "view-in-github",
        "colab_type": "text"
      },
      "source": [
        "<a href=\"https://colab.research.google.com/github/Evianitary18/SQL-Lite/blob/main/02_TestSQL_Memanipulasi_Table.ipynb\" target=\"_parent\"><img src=\"https://colab.research.google.com/assets/colab-badge.svg\" alt=\"Open In Colab\"/></a>"
      ]
    },
    {
      "cell_type": "markdown",
      "source": [
        "Table adalah Data dalam bentuk baris dan kolom seperti spreadsheet yang disimpan dalam suatu storage engine."
      ],
      "metadata": {
        "id": "eYb6egI6kwtb"
      }
    },
    {
      "cell_type": "markdown",
      "source": [
        "Storage Engine(Mesin penyimpanan) merupakan modul perangkat lunak MySQL yang digunakan dalam sistem manajemen database untuk membuat, membaca, dan memperbarui data."
      ],
      "metadata": {
        "id": "Wtb-katpk8Bw"
      }
    },
    {
      "cell_type": "markdown",
      "source": [
        "Terdapat bermacam-macam storage engine yang didukung My SQL:\n",
        "\n",
        "- InnoDB\n",
        "- MyISAM\n",
        "- Memory\n",
        "- Merge\n",
        "- Archive\n",
        "- Federated\n",
        "- Blackhole\n",
        "- Example\n",
        "- CSV"
      ],
      "metadata": {
        "id": "hQhDViAglONZ"
      }
    },
    {
      "cell_type": "markdown",
      "source": [
        "Storage engine CSV termasuk yang paling banyak dipakai karena mempunyai fleksibilitas yang tinggi (mudah diintegrasikan ke dalam aplikasi lain).\n"
      ],
      "metadata": {
        "id": "0YOeZUMulj2u"
      }
    },
    {
      "cell_type": "markdown",
      "source": [
        "** 1. Membuat Tabel Baru**"
      ],
      "metadata": {
        "id": "9XLqZN9ql2BT"
      }
    },
    {
      "cell_type": "code",
      "source": [
        "import sqlite3"
      ],
      "metadata": {
        "id": "0x7E9v0snjc3"
      },
      "execution_count": 2,
      "outputs": []
    },
    {
      "cell_type": "code",
      "execution_count": 17,
      "metadata": {
        "colab": {
          "base_uri": "https://localhost:8080/"
        },
        "id": "IVO3Cp0MjDp_",
        "outputId": "5b06a33e-4175-44f1-a38b-edf0ab920e00"
      },
      "outputs": [
        {
          "output_type": "stream",
          "name": "stdout",
          "text": [
            "Table is Ready\n"
          ]
        }
      ],
      "source": [
        "# Membuat table baru di database example.db\n",
        "connection1 = sqlite3.connect(\"example.db\")\n",
        "cursor_obj = connection1.cursor()\n",
        "# membuat kursor database dulu dari koneksi database untuk bisa eksekusi\n",
        "# gunakan syntaz CREATE TABLE <name table> [nama_kolom, tipe_data, null/tidak null diperbolehkan]\n",
        "\n",
        "table = \"\"\"\n",
        "CREATE TABLE IF NOT EXISTS EMAIL (\n",
        "    Email VARCHAR(255) NOT NULL,\n",
        "    First_Name CHAR(25) NOT NULL,\n",
        "    Last_Name CHAR(25)\n",
        ");\n",
        "\"\"\"\n",
        "\n",
        "# Penggunaan IF NOT EXIST untuk mencegah error jika tabel sudah ada.\n",
        "\n",
        "# Eksekusi perintah untuk membuat tabel\n",
        "cursor_obj.execute(table)\n",
        "\n",
        "print(\"Table is Ready\")\n",
        "\n",
        "# Close the connection\n",
        "# connection_obj.close()"
      ]
    },
    {
      "cell_type": "markdown",
      "source": [
        "2. **Melihat Struktur Table**"
      ],
      "metadata": {
        "id": "R7_98MhCrFZL"
      }
    },
    {
      "cell_type": "code",
      "source": [
        "# Melihat isi table di database example.db\n",
        "cursor_obj.execute(\"SELECT name FROM sqlite_master WHERE type= 'table';\")\n",
        "print(cursor_obj.fetchall())"
      ],
      "metadata": {
        "colab": {
          "base_uri": "https://localhost:8080/"
        },
        "id": "LINcKfxDqyau",
        "outputId": "4389c9f9-760e-48c4-f58a-d559a0071ed9"
      },
      "execution_count": 18,
      "outputs": [
        {
          "output_type": "stream",
          "name": "stdout",
          "text": [
            "[('EMAIL',)]\n"
          ]
        }
      ]
    },
    {
      "cell_type": "code",
      "source": [
        "# Melihat struktur table\n",
        "cursor_obj.execute(\"PRAGMA table_info ('EMAIL')\").fetchall()"
      ],
      "metadata": {
        "colab": {
          "base_uri": "https://localhost:8080/"
        },
        "id": "rgPcl5oirqDJ",
        "outputId": "0f3180f2-8896-44cb-a331-ef4fa4fb5575"
      },
      "execution_count": 20,
      "outputs": [
        {
          "output_type": "execute_result",
          "data": {
            "text/plain": [
              "[(0, 'Email', 'VARCHAR(255)', 1, None, 0),\n",
              " (1, 'First_Name', 'CHAR(25)', 1, None, 0),\n",
              " (2, 'Last_Name', 'CHAR(25)', 0, None, 0)]"
            ]
          },
          "metadata": {},
          "execution_count": 20
        }
      ]
    },
    {
      "cell_type": "code",
      "source": [
        "# Index\n",
        "# column name\n",
        "# data type\n",
        "# whether or not the column can be null\n",
        "# the default value for the column\n",
        "# the primary key in the result set is 0 for column that are not part of the primary key\n",
        "# otherwise the primary key in the result set is the index of the column"
      ],
      "metadata": {
        "id": "Ii6WMaC-sjs7"
      },
      "execution_count": null,
      "outputs": []
    },
    {
      "cell_type": "code",
      "source": [
        "# Mengubah table dengan menambah kolom bernama username\n",
        "# untuk mengubah table menggunakan syntax bernama alter\n",
        "cursor_obj.execute(\"ALTER TABLE EMAIL ADD COLUMN Username CHAR(25)\")"
      ],
      "metadata": {
        "colab": {
          "base_uri": "https://localhost:8080/"
        },
        "id": "xaNj_eHZtUEg",
        "outputId": "c3b346a7-b80d-4d44-b8f4-2581d061dcaf"
      },
      "execution_count": 21,
      "outputs": [
        {
          "output_type": "execute_result",
          "data": {
            "text/plain": [
              "<sqlite3.Cursor at 0x7c58cc3b3c40>"
            ]
          },
          "metadata": {},
          "execution_count": 21
        }
      ]
    },
    {
      "cell_type": "code",
      "source": [
        "# Melihat struktur table\n",
        "cursor_obj.execute(\"PRAGMA table_info('EMAIL')\").fetchall()"
      ],
      "metadata": {
        "colab": {
          "base_uri": "https://localhost:8080/"
        },
        "id": "JS76kS35tzx5",
        "outputId": "c4f77c82-e9e1-4117-8226-f1e3993c44ae"
      },
      "execution_count": 24,
      "outputs": [
        {
          "output_type": "execute_result",
          "data": {
            "text/plain": [
              "[(0, 'Email', 'VARCHAR(255)', 1, None, 0),\n",
              " (1, 'First_Name', 'CHAR(25)', 1, None, 0),\n",
              " (2, 'Last_Name', 'CHAR(25)', 0, None, 0),\n",
              " (3, 'Username', 'CHAR(25)', 0, None, 0)]"
            ]
          },
          "metadata": {},
          "execution_count": 24
        }
      ]
    },
    {
      "cell_type": "markdown",
      "source": [
        "ALTER TABLE hanya bisa digunakan untuk menambahkan kolom. Jika ingin mengurangi atau menghapus kolom, seringkali kita harus membuat ulang tablenya dengan daftar kolom yang kita inginkan saja."
      ],
      "metadata": {
        "id": "RMReu36n0jOu"
      }
    },
    {
      "cell_type": "code",
      "source": [
        "# 1. Buat tabel baru tanpa kolom 'Username'\n",
        "cursor_obj.execute('''\n",
        "CREATE TABLE IF NOT EXISTS EMAIL_NEW (\n",
        "    Email VARCHAR(255) NOT NULL,\n",
        "    First_Name CHAR(25) NOT NULL,\n",
        "    Last_Name CHAR(25)\n",
        ")\n",
        "''')\n",
        "\n",
        "# 2. Salin data dari tabel lama ke tabel baru\n",
        "cursor_obj.execute('''\n",
        "INSERT INTO EMAIL_NEW (Email, First_Name, Last_Name)\n",
        "SELECT Email, First_Name, Last_Name FROM EMAIL\n",
        "''')\n",
        "\n",
        "# 3. Hapus tabel lama\n",
        "cursor_obj.execute('DROP TABLE EMAIL')\n",
        "\n",
        "# 4. Ganti nama tabel baru menjadi nama tabel lama\n",
        "cursor_obj.execute('ALTER TABLE EMAIL_NEW RENAME TO EMAIL')\n",
        "\n",
        "print(\"Column 'Username' has been dropped and table structure updated.\")"
      ],
      "metadata": {
        "colab": {
          "base_uri": "https://localhost:8080/"
        },
        "id": "MCxV4yAO1OFD",
        "outputId": "31dd1cd4-3dd9-42e8-b552-f5ab2d49bf80"
      },
      "execution_count": 26,
      "outputs": [
        {
          "output_type": "stream",
          "name": "stdout",
          "text": [
            "Column 'Username' has been dropped and table structure updated.\n"
          ]
        }
      ]
    }
  ]
}