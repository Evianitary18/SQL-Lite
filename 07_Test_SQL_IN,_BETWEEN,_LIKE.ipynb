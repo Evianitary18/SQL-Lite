{
  "nbformat": 4,
  "nbformat_minor": 0,
  "metadata": {
    "colab": {
      "provenance": [],
      "authorship_tag": "ABX9TyME0N0BXfaZSwTlARXxTQ1/",
      "include_colab_link": true
    },
    "kernelspec": {
      "name": "python3",
      "display_name": "Python 3"
    },
    "language_info": {
      "name": "python"
    }
  },
  "cells": [
    {
      "cell_type": "markdown",
      "metadata": {
        "id": "view-in-github",
        "colab_type": "text"
      },
      "source": [
        "<a href=\"https://colab.research.google.com/github/Evianitary18/SQL-Lite/blob/main/07_Test_SQL_IN%2C_BETWEEN%2C_LIKE.ipynb\" target=\"_parent\"><img src=\"https://colab.research.google.com/assets/colab-badge.svg\" alt=\"Open In Colab\"/></a>"
      ]
    },
    {
      "cell_type": "markdown",
      "source": [
        "Operator In\n",
        "menentukan beberapa nilai sekaligus dalam klausa WHERE. versi singkat penggunaan operator OR"
      ],
      "metadata": {
        "id": "8bGyJn8cE-L6"
      }
    },
    {
      "cell_type": "code",
      "execution_count": null,
      "metadata": {
        "id": "f59J-i37EzaT"
      },
      "outputs": [],
      "source": [
        "# SINTAKS\n",
        "SELECT nama_kolom\n",
        "FROM nama_tabel\n",
        "WHERE nama_kolom IN (nilai1, nilai2, nilai3, ...);"
      ]
    },
    {
      "cell_type": "code",
      "source": [
        "pd.read_sql_query(\"SELECT * from customers where Country in ('Canada', 'USA')\", con)"
      ],
      "metadata": {
        "id": "xVq5oLaPFb0H"
      },
      "execution_count": null,
      "outputs": []
    },
    {
      "cell_type": "code",
      "source": [
        "pd.read_sql_query(\"SELECT * from customers where Country not in ('Canada', 'USA')\", con)"
      ],
      "metadata": {
        "id": "S9XrSvXrFtWa"
      },
      "execution_count": null,
      "outputs": []
    },
    {
      "cell_type": "markdown",
      "source": [
        "Operator Between untuk menampilkan data dengan rentang nilai tertentu."
      ],
      "metadata": {
        "id": "5G30o0jeF0Zv"
      }
    },
    {
      "cell_type": "code",
      "source": [
        "# SINTAKS\n",
        "SELECT nama_kolom\n",
        "FROM nama_tabel\n",
        "WHERE nama_kolom BETWEEN nilai1 AND nilai2;"
      ],
      "metadata": {
        "id": "-TjveL9nFzFH"
      },
      "execution_count": null,
      "outputs": []
    },
    {
      "cell_type": "code",
      "source": [
        "pd.read_sql_query(\"SELECT * from customers where CustomerID between 5 and 10\", con)"
      ],
      "metadata": {
        "id": "12LWhQJoGCEC"
      },
      "execution_count": null,
      "outputs": []
    },
    {
      "cell_type": "code",
      "source": [
        "pd.read_sql_query(\"SELECT *, DATE(InvoiceDate) as Invoice_DAte from invoices where DATE (InvoiceDate) between '2009-01-01' and '2009-06-01'\", con)"
      ],
      "metadata": {
        "id": "rSLHxCnlGFpl"
      },
      "execution_count": null,
      "outputs": []
    },
    {
      "cell_type": "markdown",
      "source": [
        "Like digunakan untuk mencari nilai tertentu.\n",
        "\n",
        "Ada 2 jenis karakyter khusus, yaitu tanda % dan _\n",
        "\n",
        "1. Jika tanda % yang terletak diakhir teks contoh XXX%, artinya kita mau mencari teks dalam suatu kolom yang memiliki nilai awalan XXX, terlepas jumlah karakter setelah nilai XXX ada berapa.\n",
        "\n",
        "SINTAKS\n",
        "SELECT * FROM nama_tabel WHERE nama_kolom LIKE 'xxx%'\n",
        "\n",
        "2. Jika tanda % terletak dibagian awal teks artinya mau mencari teks dalam suatu kolom memiliki nilai akhiran XXX\n",
        "\n",
        "SINTAKS\n",
        "SELECT * FROM nama_tabel WHERE nama_kolom LIKE '%XXX'"
      ],
      "metadata": {
        "id": "daRMCCC_Hkk4"
      }
    },
    {
      "cell_type": "code",
      "source": [
        "pd.read_sql_query(\"SELECT * from customers\", con)"
      ],
      "metadata": {
        "id": "EdUC_jpHIke2"
      },
      "execution_count": null,
      "outputs": []
    },
    {
      "cell_type": "code",
      "source": [
        "pd.read_sql_query(\"SELECT * from customers where Phone like '+55%'\", con)"
      ],
      "metadata": {
        "id": "9tBljKtxIusS"
      },
      "execution_count": null,
      "outputs": []
    },
    {
      "cell_type": "code",
      "source": [
        "pd.read_sql_query(SELECT * from customers where Email like '%uol%'\", con)"
      ],
      "metadata": {
        "id": "McV7u2m7I5Ev"
      },
      "execution_count": null,
      "outputs": []
    },
    {
      "cell_type": "code",
      "source": [
        "pd.read_sql_query(\"SELECT * from customers where FirstName like 'A%'\", con)"
      ],
      "metadata": {
        "id": "V4CNbLCfIdrR"
      },
      "execution_count": null,
      "outputs": []
    },
    {
      "cell_type": "markdown",
      "source": [
        "Jika karakter yang digunakan garis bawah atau _ (underscore) artinya kita mau mencari teks dengan jumlah karakter sebanyak 4 yang memiliki nilai XXX sebagai 3 huruf awalnya.\n",
        "\n",
        "SINTAKS:\n",
        "SELECT * FROM nama_tabel WHERE nama_kolom LIKE 'XXX_'"
      ],
      "metadata": {
        "id": "PXpyVYPzJlWu"
      }
    },
    {
      "cell_type": "code",
      "source": [
        "pd.read_sql_query(\"SELECT * from customers where State like 'A_'\", con)"
      ],
      "metadata": {
        "id": "zHMlbj95J5CW"
      },
      "execution_count": null,
      "outputs": []
    },
    {
      "cell_type": "markdown",
      "source": [
        "jika sintaksnya seperti ini\n",
        "SELECT * FROM nama_tabel\n",
        "WHERE nama_kolom LIKE '_XXX'\n",
        "artinya kita mau mencari teks yang punya karakter 4 dengan nilai akhir kata XXX"
      ],
      "metadata": {
        "id": "M_YVRxMoQ_z2"
      }
    },
    {
      "cell_type": "code",
      "source": [
        "pd.read_sql_query(\"SELECT * from customers where State like'_B'\", con)"
      ],
      "metadata": {
        "id": "NAjrjeSdRDXL"
      },
      "execution_count": null,
      "outputs": []
    },
    {
      "cell_type": "code",
      "source": [
        "pd.read_sql_query(\"SELECT * from customers where FirstNAme like'_ar_'\", con)\n",
        "# hanya 4 karakter dan membebaskan mau karakter apa."
      ],
      "metadata": {
        "id": "5tm2U7UURUHv"
      },
      "execution_count": null,
      "outputs": []
    }
  ]
}