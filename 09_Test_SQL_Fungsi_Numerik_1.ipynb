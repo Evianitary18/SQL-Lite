{
  "nbformat": 4,
  "nbformat_minor": 0,
  "metadata": {
    "colab": {
      "provenance": [],
      "authorship_tag": "ABX9TyOKdAz186pTlUtGPV7BcPa0",
      "include_colab_link": true
    },
    "kernelspec": {
      "name": "python3",
      "display_name": "Python 3"
    },
    "language_info": {
      "name": "python"
    }
  },
  "cells": [
    {
      "cell_type": "markdown",
      "metadata": {
        "id": "view-in-github",
        "colab_type": "text"
      },
      "source": [
        "<a href=\"https://colab.research.google.com/github/Evianitary18/SQL-Lite/blob/main/09_Test_SQL_Fungsi_Numerik_1.ipynb\" target=\"_parent\"><img src=\"https://colab.research.google.com/assets/colab-badge.svg\" alt=\"Open In Colab\"/></a>"
      ]
    },
    {
      "cell_type": "markdown",
      "source": [
        "Fungsi Numerik pada SQL dibagi menjadi 2, yaitu fungsi Aritmatika dan Matematika\n",
        "\n",
        "Fungsi aritmatika\n",
        "- Operator pertambahan\n",
        "- Operator pengurangan\n",
        "- Operator perkalian\n",
        "- Operator pembagian\n",
        "- Multi operator\n",
        "- Multi operator dan multi operasi\n",
        "- Mencari modulo"
      ],
      "metadata": {
        "id": "LU7BcJSnVi_q"
      }
    },
    {
      "cell_type": "code",
      "source": [
        "import sqlite3\n",
        "import pandas as pd\n",
        "con = sqlite3.connect(\"chinook.db\")"
      ],
      "metadata": {
        "id": "JXtXyAeOWU75"
      },
      "execution_count": null,
      "outputs": []
    },
    {
      "cell_type": "code",
      "execution_count": null,
      "metadata": {
        "id": "irJlX1ayU6Ua"
      },
      "outputs": [],
      "source": [
        "# Operasi pertambahan\n",
        "pd.read_sql_query(\"SELECT 15.4 + 5\", con)"
      ]
    },
    {
      "cell_type": "code",
      "source": [
        "# modulo\n",
        "pd.read_sql_query(\"SELECT 15.4 % 5\", con)\n"
      ],
      "metadata": {
        "id": "slw0ie5sWrud"
      },
      "execution_count": null,
      "outputs": []
    },
    {
      "cell_type": "code",
      "source": [
        "# modulo\n",
        "pd.read_sql_query(\"SELECT 6 % 3\", con)"
      ],
      "metadata": {
        "id": "MrTrkHaLXjAj"
      },
      "execution_count": null,
      "outputs": []
    },
    {
      "cell_type": "markdown",
      "source": [
        "Fungsi Matematika\n",
        "- pembulatan dengan ROUND\n",
        "- pembulatan ke bawah dengan FLOOR\n",
        "- pembulatan ke atas dengan CEILING\n",
        "- pembulatan nilai negatif dengan CEIL\n",
        "- mendapatkan nilai mutlak dengan ABS"
      ],
      "metadata": {
        "id": "rk-au0KyXsh0"
      }
    },
    {
      "cell_type": "code",
      "source": [
        "# pembulatan dengan fungsi ROUND\n",
        "pd.read_sql_query(\"SELECT ROUND(0.5)\", con)"
      ],
      "metadata": {
        "id": "PIshgwfVX-WU"
      },
      "execution_count": null,
      "outputs": []
    },
    {
      "cell_type": "code",
      "source": [
        "pd.read_sql_query(\"SELECT round(Total), Total from invoices\", con)"
      ],
      "metadata": {
        "id": "8yo9CLhHYHZt"
      },
      "execution_count": null,
      "outputs": []
    },
    {
      "cell_type": "code",
      "source": [
        "# pembulatan floor/ke bawah\n",
        "SELECT FLOOR(2.5);\n",
        "\n",
        "# Di sqlite, fungsi floor itu tidak bisa atau error"
      ],
      "metadata": {
        "id": "eLLMoiuYZOwQ"
      },
      "execution_count": null,
      "outputs": []
    },
    {
      "cell_type": "code",
      "source": [
        "# pembulatan ke atas menggunakan ceiling/langit-langit.\n",
        "# Di sqlite tidak bisa karena nanti pasti akan error"
      ],
      "metadata": {
        "id": "N7794tWDZbvJ"
      },
      "execution_count": null,
      "outputs": []
    },
    {
      "cell_type": "code",
      "source": [
        "# Pembulatan nilai numerik negatif\n",
        "# bisa dengan fungsi CEIL\n",
        "\n",
        "# SELECT CEIL(-2.1)"
      ],
      "metadata": {
        "id": "nQirl6j6Z43o"
      },
      "execution_count": null,
      "outputs": []
    },
    {
      "cell_type": "code",
      "source": [
        "# mendapatkan nilai mutlak atau ABS\n",
        "pd.read_sql_query(\"SELECT ABS(-2.1)\", con)\n",
        "# misal negatif -2 nanti hasilnya pasti positif\n",
        "# Jika dimasukkan nilai positif, hasilnya tetap positif"
      ],
      "metadata": {
        "id": "wYb450pCaD2X"
      },
      "execution_count": null,
      "outputs": []
    }
  ]
}