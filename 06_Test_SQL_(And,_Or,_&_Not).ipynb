{
  "nbformat": 4,
  "nbformat_minor": 0,
  "metadata": {
    "colab": {
      "provenance": [],
      "authorship_tag": "ABX9TyPRvmKRFoEsUZ2ispKrHuFh",
      "include_colab_link": true
    },
    "kernelspec": {
      "name": "python3",
      "display_name": "Python 3"
    },
    "language_info": {
      "name": "python"
    }
  },
  "cells": [
    {
      "cell_type": "markdown",
      "metadata": {
        "id": "view-in-github",
        "colab_type": "text"
      },
      "source": [
        "<a href=\"https://colab.research.google.com/github/Evianitary18/SQL-Lite/blob/main/06_Test_SQL_(And%2C_Or%2C_%26_Not).ipynb\" target=\"_parent\"><img src=\"https://colab.research.google.com/assets/colab-badge.svg\" alt=\"Open In Colab\"/></a>"
      ]
    },
    {
      "cell_type": "markdown",
      "source": [
        "Ada 3 macam operator logika dalam SQL.\n",
        "1. And (Menampilkan record yang memenuhi semua kondisi)"
      ],
      "metadata": {
        "id": "jgP4f0so9KaG"
      }
    },
    {
      "cell_type": "markdown",
      "source": [
        "Operator and akan menampilkan data jika semua kondisi yang dipisahkan oleh And bernilai true."
      ],
      "metadata": {
        "id": "FIhO5yQ29Wgz"
      }
    },
    {
      "cell_type": "markdown",
      "source": [
        "**Sintaks**"
      ],
      "metadata": {
        "id": "Axs7-dso9V8i"
      }
    },
    {
      "cell_type": "code",
      "execution_count": null,
      "metadata": {
        "id": "CYmchYfs81TN"
      },
      "outputs": [],
      "source": [
        "SELECT nama_kolom\n",
        "FROM nama_tabel\n",
        "WHERE kondisi1 AND kondisi2 AND kondisi3..."
      ]
    },
    {
      "cell_type": "code",
      "source": [
        "import sqlite3\n",
        "import pandas as pd\n"
      ],
      "metadata": {
        "id": "pTzGAe4c9m5E"
      },
      "execution_count": null,
      "outputs": []
    },
    {
      "cell_type": "code",
      "source": [
        "con = sqlite3.connect(\"chinook.db\")"
      ],
      "metadata": {
        "id": "x0mArxiQ-QPS"
      },
      "execution_count": null,
      "outputs": []
    },
    {
      "cell_type": "code",
      "source": [
        "cursor = con.cursor()\n",
        "\n",
        "cursor.execute(\"SELECT name FROM sqlite_master WHERE type='table';\")\n",
        "print(cursor.fetchall())"
      ],
      "metadata": {
        "colab": {
          "base_uri": "https://localhost:8080/"
        },
        "id": "H2u6W8II-dwH",
        "outputId": "90cb662e-783a-41bc-dd4c-f661c45c1e31"
      },
      "execution_count": null,
      "outputs": [
        {
          "output_type": "stream",
          "name": "stdout",
          "text": [
            "[]\n"
          ]
        }
      ]
    },
    {
      "cell_type": "code",
      "source": [
        "# Display isi table\n",
        "pd.read_sql_query(\"SELECT * FROM customers\", con)"
      ],
      "metadata": {
        "id": "l977xfDmAXXU"
      },
      "execution_count": null,
      "outputs": []
    },
    {
      "cell_type": "code",
      "source": [
        "pd.read_sql_query(\"SELECT * FROM customer where Country = 'USA' and Company = 'Google Inc'\", con)"
      ],
      "metadata": {
        "id": "zyiwggKGAl24"
      },
      "execution_count": null,
      "outputs": []
    },
    {
      "cell_type": "markdown",
      "source": [
        "Operator Or\n",
        "Menampilkan record yang memenuhi minimal satu kondisi"
      ],
      "metadata": {
        "id": "74S9wA1SAkK0"
      }
    },
    {
      "cell_type": "code",
      "source": [
        "# Sintaks\n",
        "SELECT nama_kolom\n",
        "FROM nama_tabel\n",
        "WHERE kondisi1 OR kondisi2 OR kondisi3..."
      ],
      "metadata": {
        "id": "-y900OY9A707"
      },
      "execution_count": null,
      "outputs": []
    },
    {
      "cell_type": "code",
      "source": [
        "pd.read_sql_query(\"SELECT * from customers where FirstName = 'Jack' or FirstName = 'Mark'\", con)"
      ],
      "metadata": {
        "id": "tCiSKaUY9kQA"
      },
      "execution_count": null,
      "outputs": []
    },
    {
      "cell_type": "markdown",
      "source": [
        "Operator Not\n",
        "Menampilkan data jika hasil kondisinya bernilai not true."
      ],
      "metadata": {
        "id": "FJrijx2KDHMm"
      }
    },
    {
      "cell_type": "code",
      "source": [
        "# SINTAKS\n",
        "SELECT nama_kolom\n",
        "FROM nama_tabel\n",
        "WHERE NOT kondisi;"
      ],
      "metadata": {
        "id": "g0mHSUXBDQtM"
      },
      "execution_count": null,
      "outputs": []
    },
    {
      "cell_type": "code",
      "source": [
        "pd.reas_sql_query(\"SELECT * from customers where NOT (Country = 'USA') \", con)"
      ],
      "metadata": {
        "id": "rDX-ZmRkDYKz"
      },
      "execution_count": null,
      "outputs": []
    },
    {
      "cell_type": "markdown",
      "source": [
        "Kombinasi AND, OR, NOT"
      ],
      "metadata": {
        "id": "UpuY6TqMDmWA"
      }
    },
    {
      "cell_type": "code",
      "source": [
        "pd.read_sql_query(\"SELECT * from customers where (Country = 'USA' and (Phone NOT like '%650%' or Company <> 'None'))\", con)"
      ],
      "metadata": {
        "id": "H6PgJsxoDt6r"
      },
      "execution_count": null,
      "outputs": []
    },
    {
      "cell_type": "code",
      "source": [
        "pd.read_sql_query(\"SELECT * from customers where (Country = 'USA' and (Phone NOT like '%650%' or Company <> 'None'))\", con)"
      ],
      "metadata": {
        "id": "X2LOydEQEPJR"
      },
      "execution_count": null,
      "outputs": []
    }
  ]
}