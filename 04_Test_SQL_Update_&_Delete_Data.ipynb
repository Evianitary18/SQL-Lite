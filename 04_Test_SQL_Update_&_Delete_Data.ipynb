{
  "nbformat": 4,
  "nbformat_minor": 0,
  "metadata": {
    "colab": {
      "provenance": [],
      "authorship_tag": "ABX9TyMo1tUhpOzxv7IHeNCPfpvZ",
      "include_colab_link": true
    },
    "kernelspec": {
      "name": "python3",
      "display_name": "Python 3"
    },
    "language_info": {
      "name": "python"
    }
  },
  "cells": [
    {
      "cell_type": "markdown",
      "metadata": {
        "id": "view-in-github",
        "colab_type": "text"
      },
      "source": [
        "<a href=\"https://colab.research.google.com/github/Evianitary18/SQL-Lite/blob/main/04_Test_SQL_Update_%26_Delete_Data.ipynb\" target=\"_parent\"><img src=\"https://colab.research.google.com/assets/colab-badge.svg\" alt=\"Open In Colab\"/></a>"
      ]
    },
    {
      "cell_type": "markdown",
      "source": [
        "**UPDATE** statement digunakan untuk mengganti nilai suatu data pada tabel."
      ],
      "metadata": {
        "id": "kKaBnrg0GdiJ"
      }
    },
    {
      "cell_type": "markdown",
      "source": [
        "Sintaks query:"
      ],
      "metadata": {
        "id": "H4x07i_6Gm0M"
      }
    },
    {
      "cell_type": "code",
      "execution_count": 1,
      "metadata": {
        "id": "Fk8nYezUGOD4"
      },
      "outputs": [],
      "source": [
        "# UPDATE nama_tabel\n",
        "# SET kolom1 = nilai1, kolom2 = nilai2, ...\n",
        "# WHERE kondisi;"
      ]
    },
    {
      "cell_type": "markdown",
      "source": [
        "Klausa Where di sini menentukan banyak records atau data yang akan diperbarui"
      ],
      "metadata": {
        "id": "h3oWIuDnG6LH"
      }
    },
    {
      "cell_type": "code",
      "source": [
        "# display isi tabel EMAIL\n",
        "pd.read_sql_quert(\"SELECT * from EMAIL\", connection1)"
      ],
      "metadata": {
        "id": "VM4hhlu2GtEg"
      },
      "execution_count": null,
      "outputs": []
    },
    {
      "cell_type": "code",
      "source": [
        "# update email dari first_name Kirana\n",
        "connection1.execute(\"UPDATE EMAIL, SET Email='kirana@gmail.com' where First_Name='Kirana'\");"
      ],
      "metadata": {
        "id": "cUsAZFHeHSoD"
      },
      "execution_count": null,
      "outputs": []
    },
    {
      "cell_type": "code",
      "source": [
        "# display isi tabel Email\n",
        "pd.read_sql_query(\"SELECT * from EMAIL\", connection1)"
      ],
      "metadata": {
        "id": "gUusqd8uHqWv"
      },
      "execution_count": null,
      "outputs": []
    },
    {
      "cell_type": "markdown",
      "source": [
        "**DELETE Statement**"
      ],
      "metadata": {
        "id": "fLlsgSyWICcj"
      }
    },
    {
      "cell_type": "markdown",
      "source": [
        "Untuk menghapus record/data yang ada pada tabel."
      ],
      "metadata": {
        "id": "-Vog5dc4IHsY"
      }
    },
    {
      "cell_type": "markdown",
      "source": [
        "Sintaks query:"
      ],
      "metadata": {
        "id": "8qQEVyoVIXs6"
      }
    },
    {
      "cell_type": "code",
      "source": [
        "# DELETE FROM nama_tabel WHERE kondisi;"
      ],
      "metadata": {
        "id": "kEgS2I5rIZP9"
      },
      "execution_count": null,
      "outputs": []
    },
    {
      "cell_type": "markdown",
      "source": [
        "Jika ingin menghapus semua baris tanpa menghapus tabel gunakan sintaks:"
      ],
      "metadata": {
        "id": "GmxQtjA_Ih33"
      }
    },
    {
      "cell_type": "code",
      "source": [
        "# DELETE FROM nama_tabel;"
      ],
      "metadata": {
        "id": "P3SIPXeEH3FP"
      },
      "execution_count": null,
      "outputs": []
    },
    {
      "cell_type": "code",
      "source": [
        "# delete table yang memiliki Last Name Laras\n",
        "connection1.execute(\"DELETE from EMAIL where Last_Name 'Laras'\");"
      ],
      "metadata": {
        "id": "Tezr185vIdm6"
      },
      "execution_count": null,
      "outputs": []
    },
    {
      "cell_type": "code",
      "source": [
        "# display isi table Email\n",
        "pd.read_sql_query(\"SELECT * from EMAIL\", connection1)"
      ],
      "metadata": {
        "id": "m3swZhm5JGnG"
      },
      "execution_count": null,
      "outputs": []
    }
  ]
}