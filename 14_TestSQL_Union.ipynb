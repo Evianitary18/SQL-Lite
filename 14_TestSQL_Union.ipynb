{
  "nbformat": 4,
  "nbformat_minor": 0,
  "metadata": {
    "colab": {
      "provenance": [],
      "authorship_tag": "ABX9TyOLlpgyUduTVxRnD1Ge5A83",
      "include_colab_link": true
    },
    "kernelspec": {
      "name": "python3",
      "display_name": "Python 3"
    },
    "language_info": {
      "name": "python"
    }
  },
  "cells": [
    {
      "cell_type": "markdown",
      "metadata": {
        "id": "view-in-github",
        "colab_type": "text"
      },
      "source": [
        "<a href=\"https://colab.research.google.com/github/Evianitary18/SQL-Lite/blob/main/14_TestSQL_Union.ipynb\" target=\"_parent\"><img src=\"https://colab.research.google.com/assets/colab-badge.svg\" alt=\"Open In Colab\"/></a>"
      ]
    },
    {
      "cell_type": "code",
      "execution_count": null,
      "metadata": {
        "id": "fBSzDSskVfKb"
      },
      "outputs": [],
      "source": [
        "Left Outer Join menampilkan data dari tabel sebelah kiri yang memenuhi kondisi on dan data dari tabel kanan memenuhi kondisi join"
      ]
    },
    {
      "cell_type": "code",
      "source": [
        "SELECT nama_kolom\n",
        "FROM tabelA\n",
        "LEFT OUTER JOIN tabelB\n",
        "ON tabelA.nama_kolom = tabelB.nama_kolom\n"
      ],
      "metadata": {
        "id": "o-YdUVSQWDLk"
      },
      "execution_count": null,
      "outputs": []
    },
    {
      "cell_type": "markdown",
      "source": [
        "Penggabungan data secara vertikal disebut Query Select statement"
      ],
      "metadata": {
        "id": "TeJ13SIiYByb"
      }
    },
    {
      "cell_type": "code",
      "source": [
        "# 1. Union\n",
        "dipakai untuk menggabungkan hasil dari 2 atau lebih select statement dan menampilkan nilai yang berbeda secara default alias tidak ada duplikat\n",
        "\n",
        "SELECT nama_kolom\n",
        "FROM tabelA\n",
        "WHERE kondisi\n",
        "UNION\n",
        "SELECT nama_kolom\n",
        "FROM tabelB\n",
        "WHERE kondisi;"
      ],
      "metadata": {
        "id": "Jd_NzK2XWKyp"
      },
      "execution_count": null,
      "outputs": []
    },
    {
      "cell_type": "code",
      "source": [
        "# contoh menggabungkan data dari customer dan employees yang berasal dari Canada dengan union\n",
        "pd.read_sql_query(\"SELECT FirstName, LastName, Email, 'Employees' as Type from employees where Country = 'Canada' limit 10 \", con)"
      ],
      "metadata": {
        "id": "vdjNn3B1YpTM"
      },
      "execution_count": null,
      "outputs": []
    },
    {
      "cell_type": "code",
      "source": [
        "# Menampilkan 2 baris data tanpa terkecuali termasuk duplicatnya kita menggunakan UNION ALL\n",
        "\n",
        "SELECT nama_kolom FROM tabelA\n",
        "WHERE kondisi\n",
        "UNION ALL\n",
        "SELECT nama_kolom FROM tabelB\n",
        "WHERE kondisi;\n"
      ],
      "metadata": {
        "id": "cW26yHlZZJ0-"
      },
      "execution_count": null,
      "outputs": []
    }
  ]
}