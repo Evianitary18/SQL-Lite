{
  "nbformat": 4,
  "nbformat_minor": 0,
  "metadata": {
    "colab": {
      "provenance": [],
      "authorship_tag": "ABX9TyMfU+zErfhVUm8NSc/qXotE",
      "include_colab_link": true
    },
    "kernelspec": {
      "name": "python3",
      "display_name": "Python 3"
    },
    "language_info": {
      "name": "python"
    }
  },
  "cells": [
    {
      "cell_type": "markdown",
      "metadata": {
        "id": "view-in-github",
        "colab_type": "text"
      },
      "source": [
        "<a href=\"https://colab.research.google.com/github/Evianitary18/SQL-Lite/blob/main/10_Test_SQL_Fungsi_Agregrat_Dasar_(Count%2C_SUM%2C_AVG%2C_MAX%2C_dan_MIN))_.ipynb\" target=\"_parent\"><img src=\"https://colab.research.google.com/assets/colab-badge.svg\" alt=\"Open In Colab\"/></a>"
      ]
    },
    {
      "cell_type": "markdown",
      "source": [
        "1. Mencari Count"
      ],
      "metadata": {
        "id": "AxsLanGna5pw"
      }
    },
    {
      "cell_type": "code",
      "source": [
        "SELECT COUNT (nama_kolom)\n",
        "FROM nama_tabel;"
      ],
      "metadata": {
        "id": "M7I26T_xbUH4"
      },
      "execution_count": null,
      "outputs": []
    },
    {
      "cell_type": "markdown",
      "source": [
        "2. DISTINCT untuk menghitung banyak nilai unik pada data"
      ],
      "metadata": {
        "id": "YZ2GYGKCbcYK"
      }
    },
    {
      "cell_type": "code",
      "execution_count": null,
      "metadata": {
        "id": "xrCLK18FasVh"
      },
      "outputs": [],
      "source": [
        "SELECT COUNT (DISTINCT nama_kolom)\n",
        "FROM nama_tabel;"
      ]
    },
    {
      "cell_type": "markdown",
      "source": [
        "3. WHERE untuk menghitung banyak data yang memenuhi kondisi tertentu"
      ],
      "metadata": {
        "id": "eooCbGD2b6gQ"
      }
    },
    {
      "cell_type": "code",
      "source": [
        "SELECT COUNT (nama_kolom)\n",
        "FROM nama_tabel\n",
        "WHERE kondisi;"
      ],
      "metadata": {
        "id": "bShzsi0ncCXU"
      },
      "execution_count": null,
      "outputs": []
    },
    {
      "cell_type": "code",
      "source": [
        "# Misalkan kita ingin menghitung berapa banyak data yang ada pada tabel customers.\n",
        "# Semua rangkuman ini bisa diterapkan dengan database chinook.db\n",
        "pd.read_sql_query(\"SELECT count (*) from customers\", con)"
      ],
      "metadata": {
        "id": "2HUclJhycJnl"
      },
      "execution_count": null,
      "outputs": []
    },
    {
      "cell_type": "code",
      "source": [
        "# Misalkan ingin menghitung berapa banyak country di tabel customers\n",
        "pd.read_sql_query(\"SELECT count (country) from customers\", con)"
      ],
      "metadata": {
        "id": "fIz6kn2tce1p"
      },
      "execution_count": null,
      "outputs": []
    },
    {
      "cell_type": "code",
      "source": [
        "pd.read_sql_query(\"SELECT count(distinct Country) from customers\", con)"
      ],
      "metadata": {
        "id": "soKu-iI9cym4"
      },
      "execution_count": null,
      "outputs": []
    },
    {
      "cell_type": "markdown",
      "source": [
        "4. SUM untuk menjumlahkan nilai dari suatu data numerik"
      ],
      "metadata": {
        "id": "pgXUUu36ea0T"
      }
    },
    {
      "cell_type": "code",
      "source": [
        "SELECT SUM (nama_kolom)\n",
        "FROM nama_tabel"
      ],
      "metadata": {
        "id": "WbDB_lSreiDS"
      },
      "execution_count": null,
      "outputs": []
    },
    {
      "cell_type": "code",
      "source": [
        "SELECT SUM (nama_kolom)\n",
        "FROM nama_tabel\n",
        "WHERE kondisi;"
      ],
      "metadata": {
        "id": "19iDIuk2fI0l"
      },
      "execution_count": null,
      "outputs": []
    },
    {
      "cell_type": "code",
      "source": [
        "# mau mencari jumlah nilai dari kolom total\n",
        "pd.read_sql_query(\"SELECT sum(total) from invoices\", con)"
      ],
      "metadata": {
        "id": "xreyFTDUfR4X"
      },
      "execution_count": null,
      "outputs": []
    },
    {
      "cell_type": "markdown",
      "source": [
        "5. AVG untuk menghitung rata-rata dari suatu data numerik"
      ],
      "metadata": {
        "id": "Dl0ef9mGfoew"
      }
    },
    {
      "cell_type": "code",
      "source": [
        "SELECT AVG (nama_kolom)\n",
        "FROM nama_tabel;"
      ],
      "metadata": {
        "id": "KQ5uR8pIfsVM"
      },
      "execution_count": null,
      "outputs": []
    },
    {
      "cell_type": "code",
      "source": [
        "SELECT AVG (nama_kolom)\n",
        "FROM nama_tabel\n",
        "WHERE kondisi;"
      ],
      "metadata": {
        "id": "FE7U2AoEf2Wb"
      },
      "execution_count": null,
      "outputs": []
    },
    {
      "cell_type": "code",
      "source": [
        "pd.read_sql_query(\"SELECT avg(total) from invoices\", con)"
      ],
      "metadata": {
        "id": "YRLEkdohTIff"
      },
      "execution_count": null,
      "outputs": []
    },
    {
      "cell_type": "markdown",
      "source": [
        "6. MIN dan MAX"
      ],
      "metadata": {
        "id": "zs6N8D2bf1bN"
      }
    },
    {
      "cell_type": "code",
      "source": [
        "pd.read_sql_query(\"SELECT min(total) from invoices\", con)"
      ],
      "metadata": {
        "id": "9p_EWGvvTUwa"
      },
      "execution_count": null,
      "outputs": []
    },
    {
      "cell_type": "code",
      "source": [
        "pd.read_sql_query(\"SELECT max(total) from invoices\", con)"
      ],
      "metadata": {
        "id": "NcSQRFRoTZk3"
      },
      "execution_count": null,
      "outputs": []
    }
  ]
}