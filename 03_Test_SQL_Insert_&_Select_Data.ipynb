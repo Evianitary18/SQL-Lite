{
  "nbformat": 4,
  "nbformat_minor": 0,
  "metadata": {
    "colab": {
      "provenance": [],
      "authorship_tag": "ABX9TyMJf77cuqErpn4tztBt2NnM",
      "include_colab_link": true
    },
    "kernelspec": {
      "name": "python3",
      "display_name": "Python 3"
    },
    "language_info": {
      "name": "python"
    }
  },
  "cells": [
    {
      "cell_type": "markdown",
      "metadata": {
        "id": "view-in-github",
        "colab_type": "text"
      },
      "source": [
        "<a href=\"https://colab.research.google.com/github/Evianitary18/SQL-Lite/blob/main/03_Test_SQL_Insert_%26_Select_Data.ipynb\" target=\"_parent\"><img src=\"https://colab.research.google.com/assets/colab-badge.svg\" alt=\"Open In Colab\"/></a>"
      ]
    },
    {
      "cell_type": "markdown",
      "source": [
        "Data akan terus bertambah seiring waktu. Yang bisa kita lakukan adalah menambah table. Berikut merupakan caranya."
      ],
      "metadata": {
        "id": "fEzSEGv9BgC4"
      }
    },
    {
      "cell_type": "markdown",
      "source": [
        "Pernyataan Insert Into digunakan untuk memasukkan record/data baru."
      ],
      "metadata": {
        "id": "hNoGGeJZBuZa"
      }
    },
    {
      "cell_type": "markdown",
      "source": [
        "1. Terdapat insert into untuk memasukkan data baru ke kolom tertentu."
      ],
      "metadata": {
        "id": "rSL7fgggB21M"
      }
    },
    {
      "cell_type": "code",
      "source": [
        "# INSERT INTO nama_tabel (kolom1, kolom2, kolom3, ...) VALUES (nilai1, nilai2, nilai3, ...)"
      ],
      "metadata": {
        "id": "Q0AYXzNzCBZx"
      },
      "execution_count": null,
      "outputs": []
    },
    {
      "cell_type": "markdown",
      "source": [
        "2. Menggunakan Insert into untuk semua tabel"
      ],
      "metadata": {
        "id": "Acm9A2OFCQqB"
      }
    },
    {
      "cell_type": "code",
      "source": [
        "# INSERT INTO nama_tabel VALUES (nilai1, nilai2, nilai3,...)"
      ],
      "metadata": {
        "id": "Mlv_sFH4CW9u"
      },
      "execution_count": null,
      "outputs": []
    },
    {
      "cell_type": "markdown",
      "source": [
        "SELECT digunakan untuk memunculkan data dari database. Data yang diminta kemudia disimpan dalam tabel hasil yang disebut dengan kumpulan hasil."
      ],
      "metadata": {
        "id": "1fIaDOzrCmaF"
      }
    },
    {
      "cell_type": "markdown",
      "source": [
        "Jika ingin memilih data dari kolom tertentu"
      ],
      "metadata": {
        "id": "qEG9drwUCzxL"
      }
    },
    {
      "cell_type": "code",
      "source": [
        "# SELECT kolom1, kolom2, ... FROM nama_table"
      ],
      "metadata": {
        "id": "FQ7Zb1ObC5u3"
      },
      "execution_count": null,
      "outputs": []
    },
    {
      "cell_type": "markdown",
      "source": [
        "Jika ingin memunculkan semua kolom yang ada pada table gunakan sintaks"
      ],
      "metadata": {
        "id": "v7tlcseNC-Sj"
      }
    },
    {
      "cell_type": "code",
      "source": [
        "# SELECT * FROM nama_table;"
      ],
      "metadata": {
        "id": "mCl_JrAoDGVb"
      },
      "execution_count": null,
      "outputs": []
    },
    {
      "cell_type": "markdown",
      "source": [
        "KODE Sebelumnya di 02. test sql. If u see error, u can merge the code before from 01 & 02 test sql from my repository"
      ],
      "metadata": {
        "id": "V6ondXTZDSd1"
      }
    },
    {
      "cell_type": "code",
      "source": [
        "# menambahkan isi table\n",
        "connection1.execute(\"SELECT INTO EMAIL (Email, First_Name, Last_Name, Score, Username) VALUES ('putri@gmail.com', 'Kirana', 'Laras', 80, 'kirana01')\");"
      ],
      "metadata": {
        "id": "s2c6XyTiDmRl"
      },
      "execution_count": null,
      "outputs": []
    },
    {
      "cell_type": "code",
      "source": [
        "# display isi table EMAIL\n",
        "pd.read_sql_query(\"SELECT * from EMAIL\", connection1)"
      ],
      "metadata": {
        "id": "1RdCfFmeER4m"
      },
      "execution_count": null,
      "outputs": []
    },
    {
      "cell_type": "code",
      "source": [
        "# menambah isi table kolom tertentu - tertentu saja\n",
        "connection1.execute(\"INSERT INTO EMAIL(Email, First_Name) VALUES ('ayu@gmail.com', 'Ayu')\");"
      ],
      "metadata": {
        "id": "Q6HqA8AYEi67"
      },
      "execution_count": null,
      "outputs": []
    },
    {
      "cell_type": "code",
      "source": [
        "# display isi table EMAIL\n",
        "pd.read_sql_query(\"SELECT * from EMAIL\", connection1)"
      ],
      "metadata": {
        "id": "s2BJv-LMFCqA"
      },
      "execution_count": null,
      "outputs": []
    },
    {
      "cell_type": "code",
      "source": [
        "# Menambahkan nilai yang tidak sesuai jumlah kolom\n",
        "connection1.execute(\"INSERT INTO EMAIL (Email, First_Name, Last_Name, Score, Username) \\\n",
        "VALUES ('putra@gmail.com', 'Putra', 'Arka', 80, 'putra01', 'Jakarta Selatan')\");\n",
        "\n",
        "# Diatas error karena jumlah datanya tidak sesuai dengan jumlah kolom."
      ],
      "metadata": {
        "id": "Wm0Y_yHYFQ2i"
      },
      "execution_count": null,
      "outputs": []
    },
    {
      "cell_type": "code",
      "source": [],
      "metadata": {
        "id": "YFZfwF9ZDK_P"
      },
      "execution_count": null,
      "outputs": []
    }
  ]
}